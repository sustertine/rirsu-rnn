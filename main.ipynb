{
 "cells": [
  {
   "cell_type": "code",
   "execution_count": 28,
   "id": "initial_id",
   "metadata": {
    "collapsed": true,
    "ExecuteTime": {
     "end_time": "2024-01-22T12:53:25.536351600Z",
     "start_time": "2024-01-22T12:53:25.529603100Z"
    }
   },
   "outputs": [],
   "source": [
    "import keras\n",
    "import pandas as pd\n",
    "import numpy as np\n",
    "import tensorflow as tf\n",
    "from keras import Sequential\n",
    "from keras.src.layers import LSTM, Dropout, Dense\n",
    "from keras.src.losses import MeanSquaredError, MeanAbsoluteError\n",
    "from keras.src.metrics import RootMeanSquaredError\n",
    "from keras.src.optimizers import Adam\n",
    "\n",
    "keras.utils.set_random_seed(0)"
   ]
  },
  {
   "cell_type": "code",
   "execution_count": 29,
   "outputs": [
    {
     "name": "stdout",
     "output_type": "stream",
     "text": [
      "Num gpus available: 0\n"
     ]
    }
   ],
   "source": [
    "print(f'Num gpus available: {len(tf.config.list_physical_devices(\"GPU\"))}')"
   ],
   "metadata": {
    "collapsed": false,
    "ExecuteTime": {
     "end_time": "2024-01-22T12:53:25.548871100Z",
     "start_time": "2024-01-22T12:53:25.536351600Z"
    }
   },
   "id": "c21bcb50ae606d19"
  },
  {
   "cell_type": "code",
   "execution_count": 30,
   "outputs": [],
   "source": [
    "df = pd.read_csv('RV1_SIPIA_preprocessed.csv')\n",
    "df['Date'] = pd.to_datetime(df['Date'])\n",
    "df = df.sort_values(by='Date')\n",
    "df.set_index('Date', inplace=True)"
   ],
   "metadata": {
    "collapsed": false,
    "ExecuteTime": {
     "end_time": "2024-01-22T12:53:25.588181Z",
     "start_time": "2024-01-22T12:53:25.539872700Z"
    }
   },
   "id": "9d78c1d96f40b2fd"
  },
  {
   "cell_type": "code",
   "execution_count": 31,
   "outputs": [
    {
     "data": {
      "text/plain": "                           diff_PM10  PM2.5_squared     PM2.5  \\\nDate                                                            \n2023-02-15 19:00:00+00:00  -0.066964       0.768199  0.876470   \n2023-02-15 20:00:00+00:00  -0.066964       0.797803  0.893198   \n2023-02-15 20:00:00+00:00   0.000000       0.797803  0.893198   \n2023-02-15 21:00:00+00:00  -0.143066       0.780228  0.883305   \n2023-02-15 21:00:00+00:00   0.000000       0.780228  0.883305   \n2023-02-15 22:00:00+00:00   0.193552       0.842175  0.917701   \n2023-02-15 22:00:00+00:00   0.000000       0.842175  0.917701   \n2023-02-15 23:00:00+00:00  -0.193552       0.792005  0.889947   \n2023-02-15 23:00:00+00:00   0.000000       0.792005  0.889947   \n2023-02-16 00:00:00+00:00   0.000000       0.814850  0.902691   \n\n                           roll_mean_PM10_7d  cum_count_high_NO2  diff_PM2.5  \\\nDate                                                                           \n2023-02-15 19:00:00+00:00           2.163226                   1    0.016728   \n2023-02-15 20:00:00+00:00           2.163226                   2    0.016728   \n2023-02-15 20:00:00+00:00           2.163226                   3    0.000000   \n2023-02-15 21:00:00+00:00           2.163226                   4   -0.009893   \n2023-02-15 21:00:00+00:00           2.163226                   5    0.000000   \n2023-02-15 22:00:00+00:00           2.163226                   6    0.034396   \n2023-02-15 22:00:00+00:00           2.163226                   7    0.000000   \n2023-02-15 23:00:00+00:00           2.133222                   8   -0.027755   \n2023-02-15 23:00:00+00:00           2.112784                   9    0.000000   \n2023-02-16 00:00:00+00:00           2.118323                  11    0.000000   \n\n                           dew_point_2m (°C)      PM10  \nDate                                                    \n2023-02-15 19:00:00+00:00           0.208497  2.247076  \n2023-02-15 20:00:00+00:00           0.205579  2.180111  \n2023-02-15 20:00:00+00:00           0.205579  2.180111  \n2023-02-15 21:00:00+00:00           0.205579  2.037045  \n2023-02-15 21:00:00+00:00           0.205579  2.037045  \n2023-02-15 22:00:00+00:00           0.173654  2.230597  \n2023-02-15 22:00:00+00:00           0.173654  2.230597  \n2023-02-15 23:00:00+00:00           0.170766  2.037045  \n2023-02-15 23:00:00+00:00           0.170766  2.037045  \n2023-02-16 00:00:00+00:00           0.167880  2.127966  ",
      "text/html": "<div>\n<style scoped>\n    .dataframe tbody tr th:only-of-type {\n        vertical-align: middle;\n    }\n\n    .dataframe tbody tr th {\n        vertical-align: top;\n    }\n\n    .dataframe thead th {\n        text-align: right;\n    }\n</style>\n<table border=\"1\" class=\"dataframe\">\n  <thead>\n    <tr style=\"text-align: right;\">\n      <th></th>\n      <th>diff_PM10</th>\n      <th>PM2.5_squared</th>\n      <th>PM2.5</th>\n      <th>roll_mean_PM10_7d</th>\n      <th>cum_count_high_NO2</th>\n      <th>diff_PM2.5</th>\n      <th>dew_point_2m (°C)</th>\n      <th>PM10</th>\n    </tr>\n    <tr>\n      <th>Date</th>\n      <th></th>\n      <th></th>\n      <th></th>\n      <th></th>\n      <th></th>\n      <th></th>\n      <th></th>\n      <th></th>\n    </tr>\n  </thead>\n  <tbody>\n    <tr>\n      <th>2023-02-15 19:00:00+00:00</th>\n      <td>-0.066964</td>\n      <td>0.768199</td>\n      <td>0.876470</td>\n      <td>2.163226</td>\n      <td>1</td>\n      <td>0.016728</td>\n      <td>0.208497</td>\n      <td>2.247076</td>\n    </tr>\n    <tr>\n      <th>2023-02-15 20:00:00+00:00</th>\n      <td>-0.066964</td>\n      <td>0.797803</td>\n      <td>0.893198</td>\n      <td>2.163226</td>\n      <td>2</td>\n      <td>0.016728</td>\n      <td>0.205579</td>\n      <td>2.180111</td>\n    </tr>\n    <tr>\n      <th>2023-02-15 20:00:00+00:00</th>\n      <td>0.000000</td>\n      <td>0.797803</td>\n      <td>0.893198</td>\n      <td>2.163226</td>\n      <td>3</td>\n      <td>0.000000</td>\n      <td>0.205579</td>\n      <td>2.180111</td>\n    </tr>\n    <tr>\n      <th>2023-02-15 21:00:00+00:00</th>\n      <td>-0.143066</td>\n      <td>0.780228</td>\n      <td>0.883305</td>\n      <td>2.163226</td>\n      <td>4</td>\n      <td>-0.009893</td>\n      <td>0.205579</td>\n      <td>2.037045</td>\n    </tr>\n    <tr>\n      <th>2023-02-15 21:00:00+00:00</th>\n      <td>0.000000</td>\n      <td>0.780228</td>\n      <td>0.883305</td>\n      <td>2.163226</td>\n      <td>5</td>\n      <td>0.000000</td>\n      <td>0.205579</td>\n      <td>2.037045</td>\n    </tr>\n    <tr>\n      <th>2023-02-15 22:00:00+00:00</th>\n      <td>0.193552</td>\n      <td>0.842175</td>\n      <td>0.917701</td>\n      <td>2.163226</td>\n      <td>6</td>\n      <td>0.034396</td>\n      <td>0.173654</td>\n      <td>2.230597</td>\n    </tr>\n    <tr>\n      <th>2023-02-15 22:00:00+00:00</th>\n      <td>0.000000</td>\n      <td>0.842175</td>\n      <td>0.917701</td>\n      <td>2.163226</td>\n      <td>7</td>\n      <td>0.000000</td>\n      <td>0.173654</td>\n      <td>2.230597</td>\n    </tr>\n    <tr>\n      <th>2023-02-15 23:00:00+00:00</th>\n      <td>-0.193552</td>\n      <td>0.792005</td>\n      <td>0.889947</td>\n      <td>2.133222</td>\n      <td>8</td>\n      <td>-0.027755</td>\n      <td>0.170766</td>\n      <td>2.037045</td>\n    </tr>\n    <tr>\n      <th>2023-02-15 23:00:00+00:00</th>\n      <td>0.000000</td>\n      <td>0.792005</td>\n      <td>0.889947</td>\n      <td>2.112784</td>\n      <td>9</td>\n      <td>0.000000</td>\n      <td>0.170766</td>\n      <td>2.037045</td>\n    </tr>\n    <tr>\n      <th>2023-02-16 00:00:00+00:00</th>\n      <td>0.000000</td>\n      <td>0.814850</td>\n      <td>0.902691</td>\n      <td>2.118323</td>\n      <td>11</td>\n      <td>0.000000</td>\n      <td>0.167880</td>\n      <td>2.127966</td>\n    </tr>\n  </tbody>\n</table>\n</div>"
     },
     "execution_count": 31,
     "metadata": {},
     "output_type": "execute_result"
    }
   ],
   "source": [
    "df.head(10)"
   ],
   "metadata": {
    "collapsed": false,
    "ExecuteTime": {
     "end_time": "2024-01-22T12:53:25.606341800Z",
     "start_time": "2024-01-22T12:53:25.567007900Z"
    }
   },
   "id": "549224c1956b0360"
  },
  {
   "cell_type": "code",
   "execution_count": 32,
   "outputs": [
    {
     "data": {
      "text/plain": "         diff_PM10  PM2.5_squared        PM2.5  roll_mean_PM10_7d  \\\ncount  5625.000000    5625.000000  5625.000000        5625.000000   \nmean     -0.000258       0.220307     0.410996           0.000602   \nstd       0.291043       0.195854     0.226713           0.950964   \nmin      -2.313248       0.000000     0.000000          -2.338911   \n25%      -0.107611       0.062847     0.250692          -0.708376   \n50%       0.000000       0.181266     0.425753           0.018244   \n75%       0.114477       0.319716     0.565434           0.644836   \nmax       2.761979       1.000000     1.000000           2.711811   \n\n       cum_count_high_NO2   diff_PM2.5  dew_point_2m (°C)         PM10  \ncount         5625.000000  5625.000000        5625.000000  5625.000000  \nmean           724.163022    -0.000039           0.544101     0.000000  \nstd            290.288695     0.054352           0.232600     1.000089  \nmin              1.000000    -0.467692           0.000000    -2.338911  \n25%            640.000000    -0.013880           0.353677    -0.706489  \n50%            725.000000     0.000000           0.602072     0.020638  \n75%            900.000000     0.016575           0.742465     0.693280  \nmax           1383.000000     0.375968           1.000000     2.994063  ",
      "text/html": "<div>\n<style scoped>\n    .dataframe tbody tr th:only-of-type {\n        vertical-align: middle;\n    }\n\n    .dataframe tbody tr th {\n        vertical-align: top;\n    }\n\n    .dataframe thead th {\n        text-align: right;\n    }\n</style>\n<table border=\"1\" class=\"dataframe\">\n  <thead>\n    <tr style=\"text-align: right;\">\n      <th></th>\n      <th>diff_PM10</th>\n      <th>PM2.5_squared</th>\n      <th>PM2.5</th>\n      <th>roll_mean_PM10_7d</th>\n      <th>cum_count_high_NO2</th>\n      <th>diff_PM2.5</th>\n      <th>dew_point_2m (°C)</th>\n      <th>PM10</th>\n    </tr>\n  </thead>\n  <tbody>\n    <tr>\n      <th>count</th>\n      <td>5625.000000</td>\n      <td>5625.000000</td>\n      <td>5625.000000</td>\n      <td>5625.000000</td>\n      <td>5625.000000</td>\n      <td>5625.000000</td>\n      <td>5625.000000</td>\n      <td>5625.000000</td>\n    </tr>\n    <tr>\n      <th>mean</th>\n      <td>-0.000258</td>\n      <td>0.220307</td>\n      <td>0.410996</td>\n      <td>0.000602</td>\n      <td>724.163022</td>\n      <td>-0.000039</td>\n      <td>0.544101</td>\n      <td>0.000000</td>\n    </tr>\n    <tr>\n      <th>std</th>\n      <td>0.291043</td>\n      <td>0.195854</td>\n      <td>0.226713</td>\n      <td>0.950964</td>\n      <td>290.288695</td>\n      <td>0.054352</td>\n      <td>0.232600</td>\n      <td>1.000089</td>\n    </tr>\n    <tr>\n      <th>min</th>\n      <td>-2.313248</td>\n      <td>0.000000</td>\n      <td>0.000000</td>\n      <td>-2.338911</td>\n      <td>1.000000</td>\n      <td>-0.467692</td>\n      <td>0.000000</td>\n      <td>-2.338911</td>\n    </tr>\n    <tr>\n      <th>25%</th>\n      <td>-0.107611</td>\n      <td>0.062847</td>\n      <td>0.250692</td>\n      <td>-0.708376</td>\n      <td>640.000000</td>\n      <td>-0.013880</td>\n      <td>0.353677</td>\n      <td>-0.706489</td>\n    </tr>\n    <tr>\n      <th>50%</th>\n      <td>0.000000</td>\n      <td>0.181266</td>\n      <td>0.425753</td>\n      <td>0.018244</td>\n      <td>725.000000</td>\n      <td>0.000000</td>\n      <td>0.602072</td>\n      <td>0.020638</td>\n    </tr>\n    <tr>\n      <th>75%</th>\n      <td>0.114477</td>\n      <td>0.319716</td>\n      <td>0.565434</td>\n      <td>0.644836</td>\n      <td>900.000000</td>\n      <td>0.016575</td>\n      <td>0.742465</td>\n      <td>0.693280</td>\n    </tr>\n    <tr>\n      <th>max</th>\n      <td>2.761979</td>\n      <td>1.000000</td>\n      <td>1.000000</td>\n      <td>2.711811</td>\n      <td>1383.000000</td>\n      <td>0.375968</td>\n      <td>1.000000</td>\n      <td>2.994063</td>\n    </tr>\n  </tbody>\n</table>\n</div>"
     },
     "execution_count": 32,
     "metadata": {},
     "output_type": "execute_result"
    }
   ],
   "source": [
    "df.describe()"
   ],
   "metadata": {
    "collapsed": false,
    "ExecuteTime": {
     "end_time": "2024-01-22T12:53:25.607340900Z",
     "start_time": "2024-01-22T12:53:25.578182400Z"
    }
   },
   "id": "119b59d655145436"
  },
  {
   "cell_type": "code",
   "execution_count": 33,
   "outputs": [],
   "source": [
    "def createSlidingWinwows(df, windowSize, stepSize=1):\n",
    "    windows = []\n",
    "    for start in range(0, len(df) - windowSize + 1, stepSize):\n",
    "        end = start + windowSize\n",
    "        window = df.iloc[start:end]\n",
    "        windows.append(window)\n",
    "    return windows"
   ],
   "metadata": {
    "collapsed": false,
    "ExecuteTime": {
     "end_time": "2024-01-22T12:53:25.608341200Z",
     "start_time": "2024-01-22T12:53:25.597606800Z"
    }
   },
   "id": "96b3b774da2e9ea"
  },
  {
   "cell_type": "code",
   "execution_count": 34,
   "outputs": [],
   "source": [
    "def trainTestSplit(windows, target, trainSize=0.8):\n",
    "    train = windows[:int(len(windows) * trainSize)]\n",
    "    test = windows[int(len(windows) * trainSize):]\n",
    "    \n",
    "    Xtrain = np.array([window.drop(columns=[target]).values for window in train])\n",
    "    yTrain = np.array([window[target].values for window in train])\n",
    "\n",
    "    Xtest = np.array([window.drop(columns=[target]).values for window in test])\n",
    "    yTest = np.array([window[target].values for window in test])\n",
    "    \n",
    "    return Xtrain, yTrain, Xtest, yTest"
   ],
   "metadata": {
    "collapsed": false,
    "ExecuteTime": {
     "end_time": "2024-01-22T12:53:25.608341200Z",
     "start_time": "2024-01-22T12:53:25.603487900Z"
    }
   },
   "id": "41ce2e6eccb4cb9"
  },
  {
   "cell_type": "code",
   "execution_count": 35,
   "outputs": [],
   "source": [
    "windows = createSlidingWinwows(df, 21)\n",
    "Xtrain, yTrain, Xtest, yTest = trainTestSplit(windows, 'PM10')"
   ],
   "metadata": {
    "collapsed": false,
    "ExecuteTime": {
     "end_time": "2024-01-22T12:53:27.441348400Z",
     "start_time": "2024-01-22T12:53:25.607340900Z"
    }
   },
   "id": "b87a2adabde3f1f7"
  },
  {
   "cell_type": "code",
   "execution_count": 36,
   "outputs": [
    {
     "name": "stdout",
     "output_type": "stream",
     "text": [
      "Xtrain shape: (4484, 21, 7)\n",
      "yTrain shape: (4484, 21)\n",
      "Xtest shape: (1121, 21, 7)\n",
      "yTest shape: (1121, 21)\n"
     ]
    }
   ],
   "source": [
    "print(f'Xtrain shape: {Xtrain.shape}')\n",
    "print(f'yTrain shape: {yTrain.shape}')\n",
    "print(f'Xtest shape: {Xtest.shape}')\n",
    "print(f'yTest shape: {yTest.shape}')"
   ],
   "metadata": {
    "collapsed": false,
    "ExecuteTime": {
     "end_time": "2024-01-22T12:53:27.458759900Z",
     "start_time": "2024-01-22T12:53:27.442346700Z"
    }
   },
   "id": "f15a1940445af23a"
  },
  {
   "cell_type": "code",
   "execution_count": 37,
   "outputs": [],
   "source": [
    "model = Sequential()\n",
    "model.add(LSTM(100, input_shape=(21, 7), return_sequences=True)) # return_sequences=True if stacking LSTM layers\n",
    "model.add(Dropout(0.3))\n",
    "model.add(LSTM(50))\n",
    "model.add(Dropout(0.3))\n",
    "model.add(Dense(50, activation='relu'))\n",
    "model.add(Dense(21))\n",
    "\n",
    "model.compile(\n",
    "    optimizer=Adam(learning_rate=0.001), \n",
    "    loss='mean_squared_error',\n",
    "    metrics=[\n",
    "        MeanSquaredError(),\n",
    "        MeanAbsoluteError(),\n",
    "        RootMeanSquaredError(),\n",
    "    ]\n",
    ")"
   ],
   "metadata": {
    "collapsed": false,
    "ExecuteTime": {
     "end_time": "2024-01-22T12:53:27.803677600Z",
     "start_time": "2024-01-22T12:53:27.447764Z"
    }
   },
   "id": "55a41ed50ea585ca"
  },
  {
   "cell_type": "code",
   "execution_count": 38,
   "outputs": [
    {
     "name": "stdout",
     "output_type": "stream",
     "text": [
      "Model: \"sequential_3\"\n",
      "_________________________________________________________________\n",
      " Layer (type)                Output Shape              Param #   \n",
      "=================================================================\n",
      " lstm_6 (LSTM)               (None, 21, 100)           43200     \n",
      "                                                                 \n",
      " dropout_6 (Dropout)         (None, 21, 100)           0         \n",
      "                                                                 \n",
      " lstm_7 (LSTM)               (None, 50)                30200     \n",
      "                                                                 \n",
      " dropout_7 (Dropout)         (None, 50)                0         \n",
      "                                                                 \n",
      " dense_6 (Dense)             (None, 50)                2550      \n",
      "                                                                 \n",
      " dense_7 (Dense)             (None, 21)                1071      \n",
      "                                                                 \n",
      "=================================================================\n",
      "Total params: 77021 (300.86 KB)\n",
      "Trainable params: 77021 (300.86 KB)\n",
      "Non-trainable params: 0 (0.00 Byte)\n",
      "_________________________________________________________________\n"
     ]
    }
   ],
   "source": [
    "model.summary()"
   ],
   "metadata": {
    "collapsed": false,
    "ExecuteTime": {
     "end_time": "2024-01-22T12:53:27.821478600Z",
     "start_time": "2024-01-22T12:53:27.804601200Z"
    }
   },
   "id": "d9907fa1fb1edd37"
  },
  {
   "cell_type": "code",
   "execution_count": 39,
   "outputs": [
    {
     "name": "stdout",
     "output_type": "stream",
     "text": [
      "Epoch 1/100\n",
      "141/141 [==============================] - 5s 20ms/step - loss: 0.7627 - mean_squared_error: 0.7611 - mean_absolute_error: 0.7009 - root_mean_squared_error: 0.8733 - val_loss: 1.3049 - val_mean_squared_error: 1.3319 - val_mean_absolute_error: 0.9790 - val_root_mean_squared_error: 1.1423\n",
      "Epoch 2/100\n",
      "141/141 [==============================] - 2s 15ms/step - loss: 0.5049 - mean_squared_error: 0.5039 - mean_absolute_error: 0.5542 - root_mean_squared_error: 0.7106 - val_loss: 0.4887 - val_mean_squared_error: 0.5024 - val_mean_absolute_error: 0.5632 - val_root_mean_squared_error: 0.6991\n",
      "Epoch 3/100\n",
      "141/141 [==============================] - 2s 15ms/step - loss: 0.2234 - mean_squared_error: 0.2227 - mean_absolute_error: 0.3535 - root_mean_squared_error: 0.4727 - val_loss: 0.3533 - val_mean_squared_error: 0.3634 - val_mean_absolute_error: 0.4729 - val_root_mean_squared_error: 0.5944\n",
      "Epoch 4/100\n",
      "141/141 [==============================] - 2s 16ms/step - loss: 0.1748 - mean_squared_error: 0.1746 - mean_absolute_error: 0.3126 - root_mean_squared_error: 0.4181 - val_loss: 0.3311 - val_mean_squared_error: 0.3407 - val_mean_absolute_error: 0.4522 - val_root_mean_squared_error: 0.5754\n",
      "Epoch 5/100\n",
      "141/141 [==============================] - 2s 16ms/step - loss: 0.1581 - mean_squared_error: 0.1586 - mean_absolute_error: 0.2982 - root_mean_squared_error: 0.3976 - val_loss: 0.3173 - val_mean_squared_error: 0.3253 - val_mean_absolute_error: 0.4404 - val_root_mean_squared_error: 0.5633\n",
      "Epoch 6/100\n",
      "141/141 [==============================] - 2s 16ms/step - loss: 0.1516 - mean_squared_error: 0.1512 - mean_absolute_error: 0.2906 - root_mean_squared_error: 0.3893 - val_loss: 0.2539 - val_mean_squared_error: 0.2599 - val_mean_absolute_error: 0.3937 - val_root_mean_squared_error: 0.5039\n",
      "Epoch 7/100\n",
      "141/141 [==============================] - 2s 15ms/step - loss: 0.1372 - mean_squared_error: 0.1373 - mean_absolute_error: 0.2775 - root_mean_squared_error: 0.3704 - val_loss: 0.3160 - val_mean_squared_error: 0.3204 - val_mean_absolute_error: 0.4640 - val_root_mean_squared_error: 0.5621\n",
      "Epoch 8/100\n",
      "141/141 [==============================] - 2s 15ms/step - loss: 0.1265 - mean_squared_error: 0.1268 - mean_absolute_error: 0.2664 - root_mean_squared_error: 0.3557 - val_loss: 0.2384 - val_mean_squared_error: 0.2419 - val_mean_absolute_error: 0.3894 - val_root_mean_squared_error: 0.4882\n",
      "Epoch 9/100\n",
      "141/141 [==============================] - 2s 15ms/step - loss: 0.1207 - mean_squared_error: 0.1203 - mean_absolute_error: 0.2594 - root_mean_squared_error: 0.3474 - val_loss: 0.2573 - val_mean_squared_error: 0.2568 - val_mean_absolute_error: 0.4062 - val_root_mean_squared_error: 0.5072\n",
      "Epoch 10/100\n",
      "141/141 [==============================] - 2s 15ms/step - loss: 0.1157 - mean_squared_error: 0.1153 - mean_absolute_error: 0.2526 - root_mean_squared_error: 0.3402 - val_loss: 0.1959 - val_mean_squared_error: 0.1971 - val_mean_absolute_error: 0.3424 - val_root_mean_squared_error: 0.4426\n",
      "Epoch 11/100\n",
      "141/141 [==============================] - 2s 15ms/step - loss: 0.1178 - mean_squared_error: 0.1178 - mean_absolute_error: 0.2569 - root_mean_squared_error: 0.3432 - val_loss: 0.1950 - val_mean_squared_error: 0.1953 - val_mean_absolute_error: 0.3440 - val_root_mean_squared_error: 0.4416\n",
      "Epoch 12/100\n",
      "141/141 [==============================] - 2s 15ms/step - loss: 0.1124 - mean_squared_error: 0.1133 - mean_absolute_error: 0.2504 - root_mean_squared_error: 0.3353 - val_loss: 0.2334 - val_mean_squared_error: 0.2335 - val_mean_absolute_error: 0.3878 - val_root_mean_squared_error: 0.4831\n",
      "Epoch 13/100\n",
      "141/141 [==============================] - 2s 16ms/step - loss: 0.1099 - mean_squared_error: 0.1096 - mean_absolute_error: 0.2470 - root_mean_squared_error: 0.3315 - val_loss: 0.1964 - val_mean_squared_error: 0.1989 - val_mean_absolute_error: 0.3437 - val_root_mean_squared_error: 0.4432\n",
      "Epoch 14/100\n",
      "141/141 [==============================] - 2s 16ms/step - loss: 0.1066 - mean_squared_error: 0.1062 - mean_absolute_error: 0.2427 - root_mean_squared_error: 0.3265 - val_loss: 0.1801 - val_mean_squared_error: 0.1800 - val_mean_absolute_error: 0.3270 - val_root_mean_squared_error: 0.4244\n",
      "Epoch 15/100\n",
      "141/141 [==============================] - 2s 15ms/step - loss: 0.1038 - mean_squared_error: 0.1036 - mean_absolute_error: 0.2392 - root_mean_squared_error: 0.3221 - val_loss: 0.1973 - val_mean_squared_error: 0.1987 - val_mean_absolute_error: 0.3461 - val_root_mean_squared_error: 0.4441\n",
      "Epoch 16/100\n",
      "141/141 [==============================] - 2s 15ms/step - loss: 0.1031 - mean_squared_error: 0.1028 - mean_absolute_error: 0.2385 - root_mean_squared_error: 0.3211 - val_loss: 0.1967 - val_mean_squared_error: 0.1995 - val_mean_absolute_error: 0.3480 - val_root_mean_squared_error: 0.4435\n",
      "Epoch 17/100\n",
      "141/141 [==============================] - 2s 15ms/step - loss: 0.1037 - mean_squared_error: 0.1039 - mean_absolute_error: 0.2410 - root_mean_squared_error: 0.3221 - val_loss: 0.1664 - val_mean_squared_error: 0.1675 - val_mean_absolute_error: 0.3169 - val_root_mean_squared_error: 0.4079\n",
      "Epoch 18/100\n",
      "141/141 [==============================] - 2s 15ms/step - loss: 0.0989 - mean_squared_error: 0.0993 - mean_absolute_error: 0.2343 - root_mean_squared_error: 0.3145 - val_loss: 0.2073 - val_mean_squared_error: 0.2067 - val_mean_absolute_error: 0.3655 - val_root_mean_squared_error: 0.4553\n",
      "Epoch 19/100\n",
      "141/141 [==============================] - 2s 15ms/step - loss: 0.0983 - mean_squared_error: 0.0980 - mean_absolute_error: 0.2332 - root_mean_squared_error: 0.3136 - val_loss: 0.1546 - val_mean_squared_error: 0.1551 - val_mean_absolute_error: 0.3033 - val_root_mean_squared_error: 0.3932\n",
      "Epoch 20/100\n",
      "141/141 [==============================] - 2s 15ms/step - loss: 0.0968 - mean_squared_error: 0.0965 - mean_absolute_error: 0.2309 - root_mean_squared_error: 0.3111 - val_loss: 0.2066 - val_mean_squared_error: 0.2062 - val_mean_absolute_error: 0.3575 - val_root_mean_squared_error: 0.4545\n",
      "Epoch 21/100\n",
      "141/141 [==============================] - 2s 15ms/step - loss: 0.0993 - mean_squared_error: 0.0993 - mean_absolute_error: 0.2360 - root_mean_squared_error: 0.3151 - val_loss: 0.1474 - val_mean_squared_error: 0.1473 - val_mean_absolute_error: 0.2958 - val_root_mean_squared_error: 0.3839\n",
      "Epoch 22/100\n",
      "141/141 [==============================] - 2s 15ms/step - loss: 0.0925 - mean_squared_error: 0.0925 - mean_absolute_error: 0.2259 - root_mean_squared_error: 0.3041 - val_loss: 0.1526 - val_mean_squared_error: 0.1518 - val_mean_absolute_error: 0.3008 - val_root_mean_squared_error: 0.3906\n",
      "Epoch 23/100\n",
      "141/141 [==============================] - 2s 15ms/step - loss: 0.0913 - mean_squared_error: 0.0913 - mean_absolute_error: 0.2252 - root_mean_squared_error: 0.3021 - val_loss: 0.1436 - val_mean_squared_error: 0.1442 - val_mean_absolute_error: 0.2929 - val_root_mean_squared_error: 0.3789\n",
      "Epoch 24/100\n",
      "141/141 [==============================] - 2s 15ms/step - loss: 0.0893 - mean_squared_error: 0.0893 - mean_absolute_error: 0.2213 - root_mean_squared_error: 0.2988 - val_loss: 0.1496 - val_mean_squared_error: 0.1501 - val_mean_absolute_error: 0.3018 - val_root_mean_squared_error: 0.3868\n",
      "Epoch 25/100\n",
      "141/141 [==============================] - 2s 15ms/step - loss: 0.0904 - mean_squared_error: 0.0904 - mean_absolute_error: 0.2234 - root_mean_squared_error: 0.3007 - val_loss: 0.1348 - val_mean_squared_error: 0.1345 - val_mean_absolute_error: 0.2814 - val_root_mean_squared_error: 0.3672\n",
      "Epoch 26/100\n",
      "141/141 [==============================] - 2s 15ms/step - loss: 0.0901 - mean_squared_error: 0.0898 - mean_absolute_error: 0.2228 - root_mean_squared_error: 0.3002 - val_loss: 0.1699 - val_mean_squared_error: 0.1696 - val_mean_absolute_error: 0.3215 - val_root_mean_squared_error: 0.4122\n",
      "Epoch 27/100\n",
      "141/141 [==============================] - 2s 15ms/step - loss: 0.0865 - mean_squared_error: 0.0863 - mean_absolute_error: 0.2166 - root_mean_squared_error: 0.2942 - val_loss: 0.2336 - val_mean_squared_error: 0.2345 - val_mean_absolute_error: 0.3904 - val_root_mean_squared_error: 0.4833\n",
      "Epoch 28/100\n",
      "141/141 [==============================] - 2s 15ms/step - loss: 0.0889 - mean_squared_error: 0.0891 - mean_absolute_error: 0.2218 - root_mean_squared_error: 0.2981 - val_loss: 0.1954 - val_mean_squared_error: 0.1957 - val_mean_absolute_error: 0.3488 - val_root_mean_squared_error: 0.4420\n",
      "Epoch 29/100\n",
      "141/141 [==============================] - 2s 15ms/step - loss: 0.0879 - mean_squared_error: 0.0879 - mean_absolute_error: 0.2195 - root_mean_squared_error: 0.2964 - val_loss: 0.1297 - val_mean_squared_error: 0.1291 - val_mean_absolute_error: 0.2754 - val_root_mean_squared_error: 0.3602\n",
      "Epoch 30/100\n",
      "141/141 [==============================] - 2s 15ms/step - loss: 0.0843 - mean_squared_error: 0.0842 - mean_absolute_error: 0.2144 - root_mean_squared_error: 0.2903 - val_loss: 0.1382 - val_mean_squared_error: 0.1386 - val_mean_absolute_error: 0.2857 - val_root_mean_squared_error: 0.3717\n",
      "Epoch 31/100\n",
      "141/141 [==============================] - 2s 15ms/step - loss: 0.0856 - mean_squared_error: 0.0855 - mean_absolute_error: 0.2172 - root_mean_squared_error: 0.2925 - val_loss: 0.1622 - val_mean_squared_error: 0.1611 - val_mean_absolute_error: 0.3139 - val_root_mean_squared_error: 0.4027\n",
      "Epoch 32/100\n",
      "141/141 [==============================] - 2s 15ms/step - loss: 0.0816 - mean_squared_error: 0.0816 - mean_absolute_error: 0.2113 - root_mean_squared_error: 0.2857 - val_loss: 0.1357 - val_mean_squared_error: 0.1349 - val_mean_absolute_error: 0.2842 - val_root_mean_squared_error: 0.3684\n",
      "Epoch 33/100\n",
      "141/141 [==============================] - 2s 15ms/step - loss: 0.0814 - mean_squared_error: 0.0814 - mean_absolute_error: 0.2105 - root_mean_squared_error: 0.2853 - val_loss: 0.1204 - val_mean_squared_error: 0.1194 - val_mean_absolute_error: 0.2647 - val_root_mean_squared_error: 0.3470\n",
      "Epoch 34/100\n",
      "141/141 [==============================] - 2s 15ms/step - loss: 0.0798 - mean_squared_error: 0.0800 - mean_absolute_error: 0.2079 - root_mean_squared_error: 0.2826 - val_loss: 0.1406 - val_mean_squared_error: 0.1409 - val_mean_absolute_error: 0.2952 - val_root_mean_squared_error: 0.3749\n",
      "Epoch 35/100\n",
      "141/141 [==============================] - 2s 15ms/step - loss: 0.0804 - mean_squared_error: 0.0802 - mean_absolute_error: 0.2092 - root_mean_squared_error: 0.2836 - val_loss: 0.1171 - val_mean_squared_error: 0.1162 - val_mean_absolute_error: 0.2599 - val_root_mean_squared_error: 0.3422\n",
      "Epoch 36/100\n",
      "141/141 [==============================] - 2s 15ms/step - loss: 0.0811 - mean_squared_error: 0.0809 - mean_absolute_error: 0.2106 - root_mean_squared_error: 0.2848 - val_loss: 0.1372 - val_mean_squared_error: 0.1364 - val_mean_absolute_error: 0.2845 - val_root_mean_squared_error: 0.3704\n",
      "Epoch 37/100\n",
      "141/141 [==============================] - 2s 15ms/step - loss: 0.0793 - mean_squared_error: 0.0795 - mean_absolute_error: 0.2084 - root_mean_squared_error: 0.2817 - val_loss: 0.1352 - val_mean_squared_error: 0.1346 - val_mean_absolute_error: 0.2838 - val_root_mean_squared_error: 0.3677\n",
      "Epoch 38/100\n",
      "141/141 [==============================] - 2s 15ms/step - loss: 0.0800 - mean_squared_error: 0.0798 - mean_absolute_error: 0.2095 - root_mean_squared_error: 0.2829 - val_loss: 0.1851 - val_mean_squared_error: 0.1848 - val_mean_absolute_error: 0.3418 - val_root_mean_squared_error: 0.4302\n",
      "Epoch 39/100\n",
      "141/141 [==============================] - 2s 15ms/step - loss: 0.0795 - mean_squared_error: 0.0793 - mean_absolute_error: 0.2086 - root_mean_squared_error: 0.2819 - val_loss: 0.1106 - val_mean_squared_error: 0.1105 - val_mean_absolute_error: 0.2516 - val_root_mean_squared_error: 0.3326\n",
      "Epoch 40/100\n",
      "141/141 [==============================] - 2s 15ms/step - loss: 0.0749 - mean_squared_error: 0.0748 - mean_absolute_error: 0.2015 - root_mean_squared_error: 0.2737 - val_loss: 0.1184 - val_mean_squared_error: 0.1177 - val_mean_absolute_error: 0.2655 - val_root_mean_squared_error: 0.3441\n",
      "Epoch 41/100\n",
      "141/141 [==============================] - 2s 15ms/step - loss: 0.0784 - mean_squared_error: 0.0786 - mean_absolute_error: 0.2080 - root_mean_squared_error: 0.2800 - val_loss: 0.1038 - val_mean_squared_error: 0.1029 - val_mean_absolute_error: 0.2420 - val_root_mean_squared_error: 0.3222\n",
      "Epoch 42/100\n",
      "141/141 [==============================] - 2s 15ms/step - loss: 0.0748 - mean_squared_error: 0.0747 - mean_absolute_error: 0.2015 - root_mean_squared_error: 0.2735 - val_loss: 0.1099 - val_mean_squared_error: 0.1087 - val_mean_absolute_error: 0.2530 - val_root_mean_squared_error: 0.3314\n",
      "Epoch 43/100\n",
      "141/141 [==============================] - 2s 15ms/step - loss: 0.0775 - mean_squared_error: 0.0773 - mean_absolute_error: 0.2065 - root_mean_squared_error: 0.2784 - val_loss: 0.1253 - val_mean_squared_error: 0.1250 - val_mean_absolute_error: 0.2778 - val_root_mean_squared_error: 0.3539\n",
      "Epoch 44/100\n",
      "141/141 [==============================] - 2s 15ms/step - loss: 0.0741 - mean_squared_error: 0.0745 - mean_absolute_error: 0.2009 - root_mean_squared_error: 0.2723 - val_loss: 0.1327 - val_mean_squared_error: 0.1316 - val_mean_absolute_error: 0.2817 - val_root_mean_squared_error: 0.3642\n",
      "Epoch 45/100\n",
      "141/141 [==============================] - 2s 15ms/step - loss: 0.0736 - mean_squared_error: 0.0735 - mean_absolute_error: 0.2000 - root_mean_squared_error: 0.2712 - val_loss: 0.1244 - val_mean_squared_error: 0.1236 - val_mean_absolute_error: 0.2720 - val_root_mean_squared_error: 0.3527\n",
      "Epoch 46/100\n",
      "141/141 [==============================] - 2s 16ms/step - loss: 0.0724 - mean_squared_error: 0.0723 - mean_absolute_error: 0.1977 - root_mean_squared_error: 0.2691 - val_loss: 0.1378 - val_mean_squared_error: 0.1372 - val_mean_absolute_error: 0.2909 - val_root_mean_squared_error: 0.3712\n",
      "Epoch 47/100\n",
      "141/141 [==============================] - 2s 15ms/step - loss: 0.0713 - mean_squared_error: 0.0714 - mean_absolute_error: 0.1971 - root_mean_squared_error: 0.2671 - val_loss: 0.1024 - val_mean_squared_error: 0.1014 - val_mean_absolute_error: 0.2427 - val_root_mean_squared_error: 0.3201\n",
      "Epoch 48/100\n",
      "141/141 [==============================] - 2s 15ms/step - loss: 0.0705 - mean_squared_error: 0.0705 - mean_absolute_error: 0.1952 - root_mean_squared_error: 0.2655 - val_loss: 0.0997 - val_mean_squared_error: 0.0988 - val_mean_absolute_error: 0.2383 - val_root_mean_squared_error: 0.3157\n",
      "Epoch 49/100\n",
      "141/141 [==============================] - 2s 15ms/step - loss: 0.0701 - mean_squared_error: 0.0698 - mean_absolute_error: 0.1946 - root_mean_squared_error: 0.2647 - val_loss: 0.1082 - val_mean_squared_error: 0.1073 - val_mean_absolute_error: 0.2515 - val_root_mean_squared_error: 0.3290\n",
      "Epoch 50/100\n",
      "141/141 [==============================] - 2s 15ms/step - loss: 0.0721 - mean_squared_error: 0.0719 - mean_absolute_error: 0.1980 - root_mean_squared_error: 0.2684 - val_loss: 0.0993 - val_mean_squared_error: 0.0987 - val_mean_absolute_error: 0.2408 - val_root_mean_squared_error: 0.3152\n",
      "Epoch 51/100\n",
      "141/141 [==============================] - 2s 15ms/step - loss: 0.0744 - mean_squared_error: 0.0742 - mean_absolute_error: 0.2021 - root_mean_squared_error: 0.2728 - val_loss: 0.1002 - val_mean_squared_error: 0.0989 - val_mean_absolute_error: 0.2400 - val_root_mean_squared_error: 0.3165\n",
      "Epoch 52/100\n",
      "141/141 [==============================] - 2s 15ms/step - loss: 0.0695 - mean_squared_error: 0.0694 - mean_absolute_error: 0.1937 - root_mean_squared_error: 0.2637 - val_loss: 0.0920 - val_mean_squared_error: 0.0912 - val_mean_absolute_error: 0.2287 - val_root_mean_squared_error: 0.3034\n",
      "Epoch 53/100\n",
      "141/141 [==============================] - 2s 15ms/step - loss: 0.0675 - mean_squared_error: 0.0674 - mean_absolute_error: 0.1910 - root_mean_squared_error: 0.2598 - val_loss: 0.1699 - val_mean_squared_error: 0.1701 - val_mean_absolute_error: 0.3347 - val_root_mean_squared_error: 0.4121\n",
      "Epoch 54/100\n",
      "141/141 [==============================] - 2s 15ms/step - loss: 0.0677 - mean_squared_error: 0.0677 - mean_absolute_error: 0.1914 - root_mean_squared_error: 0.2602 - val_loss: 0.0920 - val_mean_squared_error: 0.0914 - val_mean_absolute_error: 0.2290 - val_root_mean_squared_error: 0.3033\n",
      "Epoch 55/100\n",
      "141/141 [==============================] - 2s 15ms/step - loss: 0.0660 - mean_squared_error: 0.0667 - mean_absolute_error: 0.1889 - root_mean_squared_error: 0.2570 - val_loss: 0.1063 - val_mean_squared_error: 0.1050 - val_mean_absolute_error: 0.2494 - val_root_mean_squared_error: 0.3261\n",
      "Epoch 56/100\n",
      "141/141 [==============================] - 2s 15ms/step - loss: 0.0681 - mean_squared_error: 0.0682 - mean_absolute_error: 0.1919 - root_mean_squared_error: 0.2609 - val_loss: 0.1135 - val_mean_squared_error: 0.1126 - val_mean_absolute_error: 0.2588 - val_root_mean_squared_error: 0.3368\n",
      "Epoch 57/100\n",
      "141/141 [==============================] - 2s 15ms/step - loss: 0.0666 - mean_squared_error: 0.0664 - mean_absolute_error: 0.1897 - root_mean_squared_error: 0.2582 - val_loss: 0.1018 - val_mean_squared_error: 0.1023 - val_mean_absolute_error: 0.2458 - val_root_mean_squared_error: 0.3190\n",
      "Epoch 58/100\n",
      "141/141 [==============================] - 2s 15ms/step - loss: 0.0656 - mean_squared_error: 0.0656 - mean_absolute_error: 0.1880 - root_mean_squared_error: 0.2562 - val_loss: 0.0985 - val_mean_squared_error: 0.0975 - val_mean_absolute_error: 0.2387 - val_root_mean_squared_error: 0.3138\n",
      "Epoch 59/100\n",
      "141/141 [==============================] - 2s 15ms/step - loss: 0.0656 - mean_squared_error: 0.0654 - mean_absolute_error: 0.1883 - root_mean_squared_error: 0.2561 - val_loss: 0.0936 - val_mean_squared_error: 0.0928 - val_mean_absolute_error: 0.2317 - val_root_mean_squared_error: 0.3059\n",
      "Epoch 60/100\n",
      "141/141 [==============================] - 2s 15ms/step - loss: 0.0662 - mean_squared_error: 0.0660 - mean_absolute_error: 0.1893 - root_mean_squared_error: 0.2573 - val_loss: 0.0802 - val_mean_squared_error: 0.0795 - val_mean_absolute_error: 0.2121 - val_root_mean_squared_error: 0.2831\n",
      "Epoch 61/100\n",
      "141/141 [==============================] - 2s 15ms/step - loss: 0.0645 - mean_squared_error: 0.0644 - mean_absolute_error: 0.1870 - root_mean_squared_error: 0.2540 - val_loss: 0.0971 - val_mean_squared_error: 0.0964 - val_mean_absolute_error: 0.2386 - val_root_mean_squared_error: 0.3116\n",
      "Epoch 62/100\n",
      "141/141 [==============================] - 2s 15ms/step - loss: 0.0634 - mean_squared_error: 0.0636 - mean_absolute_error: 0.1849 - root_mean_squared_error: 0.2519 - val_loss: 0.0945 - val_mean_squared_error: 0.0942 - val_mean_absolute_error: 0.2364 - val_root_mean_squared_error: 0.3074\n",
      "Epoch 63/100\n",
      "141/141 [==============================] - 2s 15ms/step - loss: 0.0631 - mean_squared_error: 0.0630 - mean_absolute_error: 0.1835 - root_mean_squared_error: 0.2512 - val_loss: 0.0896 - val_mean_squared_error: 0.0893 - val_mean_absolute_error: 0.2269 - val_root_mean_squared_error: 0.2993\n",
      "Epoch 64/100\n",
      "141/141 [==============================] - 2s 15ms/step - loss: 0.0627 - mean_squared_error: 0.0626 - mean_absolute_error: 0.1840 - root_mean_squared_error: 0.2504 - val_loss: 0.1070 - val_mean_squared_error: 0.1065 - val_mean_absolute_error: 0.2513 - val_root_mean_squared_error: 0.3271\n",
      "Epoch 65/100\n",
      "141/141 [==============================] - 2s 15ms/step - loss: 0.0625 - mean_squared_error: 0.0625 - mean_absolute_error: 0.1832 - root_mean_squared_error: 0.2500 - val_loss: 0.0789 - val_mean_squared_error: 0.0784 - val_mean_absolute_error: 0.2112 - val_root_mean_squared_error: 0.2809\n",
      "Epoch 66/100\n",
      "141/141 [==============================] - 2s 15ms/step - loss: 0.0651 - mean_squared_error: 0.0652 - mean_absolute_error: 0.1878 - root_mean_squared_error: 0.2552 - val_loss: 0.1066 - val_mean_squared_error: 0.1061 - val_mean_absolute_error: 0.2593 - val_root_mean_squared_error: 0.3265\n",
      "Epoch 67/100\n",
      "141/141 [==============================] - 2s 15ms/step - loss: 0.0641 - mean_squared_error: 0.0640 - mean_absolute_error: 0.1856 - root_mean_squared_error: 0.2533 - val_loss: 0.0819 - val_mean_squared_error: 0.0817 - val_mean_absolute_error: 0.2153 - val_root_mean_squared_error: 0.2862\n",
      "Epoch 68/100\n",
      "141/141 [==============================] - 2s 15ms/step - loss: 0.0614 - mean_squared_error: 0.0615 - mean_absolute_error: 0.1815 - root_mean_squared_error: 0.2477 - val_loss: 0.1401 - val_mean_squared_error: 0.1386 - val_mean_absolute_error: 0.3072 - val_root_mean_squared_error: 0.3744\n",
      "Epoch 69/100\n",
      "141/141 [==============================] - 2s 15ms/step - loss: 0.0607 - mean_squared_error: 0.0605 - mean_absolute_error: 0.1801 - root_mean_squared_error: 0.2464 - val_loss: 0.0778 - val_mean_squared_error: 0.0773 - val_mean_absolute_error: 0.2091 - val_root_mean_squared_error: 0.2790\n",
      "Epoch 70/100\n",
      "141/141 [==============================] - 2s 15ms/step - loss: 0.0621 - mean_squared_error: 0.0619 - mean_absolute_error: 0.1828 - root_mean_squared_error: 0.2492 - val_loss: 0.1156 - val_mean_squared_error: 0.1146 - val_mean_absolute_error: 0.2719 - val_root_mean_squared_error: 0.3400\n",
      "Epoch 71/100\n",
      "141/141 [==============================] - 2s 15ms/step - loss: 0.0622 - mean_squared_error: 0.0622 - mean_absolute_error: 0.1835 - root_mean_squared_error: 0.2494 - val_loss: 0.0877 - val_mean_squared_error: 0.0877 - val_mean_absolute_error: 0.2254 - val_root_mean_squared_error: 0.2962\n",
      "Epoch 72/100\n",
      "141/141 [==============================] - 2s 15ms/step - loss: 0.0615 - mean_squared_error: 0.0616 - mean_absolute_error: 0.1826 - root_mean_squared_error: 0.2481 - val_loss: 0.1132 - val_mean_squared_error: 0.1142 - val_mean_absolute_error: 0.2692 - val_root_mean_squared_error: 0.3364\n",
      "Epoch 73/100\n",
      "141/141 [==============================] - 2s 16ms/step - loss: 0.0602 - mean_squared_error: 0.0601 - mean_absolute_error: 0.1791 - root_mean_squared_error: 0.2454 - val_loss: 0.0858 - val_mean_squared_error: 0.0858 - val_mean_absolute_error: 0.2255 - val_root_mean_squared_error: 0.2929\n",
      "Epoch 74/100\n",
      "141/141 [==============================] - 2s 15ms/step - loss: 0.0596 - mean_squared_error: 0.0601 - mean_absolute_error: 0.1788 - root_mean_squared_error: 0.2442 - val_loss: 0.0864 - val_mean_squared_error: 0.0861 - val_mean_absolute_error: 0.2218 - val_root_mean_squared_error: 0.2940\n",
      "Epoch 75/100\n",
      "141/141 [==============================] - 2s 16ms/step - loss: 0.0585 - mean_squared_error: 0.0584 - mean_absolute_error: 0.1767 - root_mean_squared_error: 0.2419 - val_loss: 0.0868 - val_mean_squared_error: 0.0868 - val_mean_absolute_error: 0.2263 - val_root_mean_squared_error: 0.2946\n",
      "Epoch 76/100\n",
      "141/141 [==============================] - 2s 16ms/step - loss: 0.0599 - mean_squared_error: 0.0598 - mean_absolute_error: 0.1794 - root_mean_squared_error: 0.2447 - val_loss: 0.0890 - val_mean_squared_error: 0.0884 - val_mean_absolute_error: 0.2276 - val_root_mean_squared_error: 0.2984\n",
      "Epoch 77/100\n",
      "141/141 [==============================] - 2s 16ms/step - loss: 0.0580 - mean_squared_error: 0.0578 - mean_absolute_error: 0.1759 - root_mean_squared_error: 0.2409 - val_loss: 0.0985 - val_mean_squared_error: 0.0982 - val_mean_absolute_error: 0.2490 - val_root_mean_squared_error: 0.3139\n",
      "Epoch 78/100\n",
      "141/141 [==============================] - 2s 16ms/step - loss: 0.0603 - mean_squared_error: 0.0606 - mean_absolute_error: 0.1801 - root_mean_squared_error: 0.2456 - val_loss: 0.0798 - val_mean_squared_error: 0.0793 - val_mean_absolute_error: 0.2143 - val_root_mean_squared_error: 0.2826\n",
      "Epoch 79/100\n",
      "141/141 [==============================] - 2s 15ms/step - loss: 0.0587 - mean_squared_error: 0.0587 - mean_absolute_error: 0.1772 - root_mean_squared_error: 0.2423 - val_loss: 0.0867 - val_mean_squared_error: 0.0874 - val_mean_absolute_error: 0.2298 - val_root_mean_squared_error: 0.2945\n",
      "Epoch 80/100\n",
      "141/141 [==============================] - 2s 14ms/step - loss: 0.0574 - mean_squared_error: 0.0573 - mean_absolute_error: 0.1746 - root_mean_squared_error: 0.2396 - val_loss: 0.0826 - val_mean_squared_error: 0.0821 - val_mean_absolute_error: 0.2176 - val_root_mean_squared_error: 0.2873\n",
      "Epoch 81/100\n",
      "141/141 [==============================] - 2s 15ms/step - loss: 0.0575 - mean_squared_error: 0.0577 - mean_absolute_error: 0.1758 - root_mean_squared_error: 0.2399 - val_loss: 0.0835 - val_mean_squared_error: 0.0828 - val_mean_absolute_error: 0.2235 - val_root_mean_squared_error: 0.2889\n",
      "Epoch 82/100\n",
      "141/141 [==============================] - 2s 15ms/step - loss: 0.0566 - mean_squared_error: 0.0565 - mean_absolute_error: 0.1738 - root_mean_squared_error: 0.2380 - val_loss: 0.0778 - val_mean_squared_error: 0.0781 - val_mean_absolute_error: 0.2106 - val_root_mean_squared_error: 0.2789\n",
      "Epoch 83/100\n",
      "141/141 [==============================] - 2s 16ms/step - loss: 0.0575 - mean_squared_error: 0.0577 - mean_absolute_error: 0.1765 - root_mean_squared_error: 0.2399 - val_loss: 0.1147 - val_mean_squared_error: 0.1140 - val_mean_absolute_error: 0.2607 - val_root_mean_squared_error: 0.3387\n",
      "Epoch 84/100\n",
      "141/141 [==============================] - 2s 17ms/step - loss: 0.0592 - mean_squared_error: 0.0591 - mean_absolute_error: 0.1790 - root_mean_squared_error: 0.2434 - val_loss: 0.0962 - val_mean_squared_error: 0.0965 - val_mean_absolute_error: 0.2397 - val_root_mean_squared_error: 0.3102\n",
      "Epoch 85/100\n",
      "141/141 [==============================] - 2s 15ms/step - loss: 0.0571 - mean_squared_error: 0.0571 - mean_absolute_error: 0.1753 - root_mean_squared_error: 0.2389 - val_loss: 0.0901 - val_mean_squared_error: 0.0901 - val_mean_absolute_error: 0.2339 - val_root_mean_squared_error: 0.3001\n",
      "Epoch 86/100\n",
      "141/141 [==============================] - 2s 15ms/step - loss: 0.0552 - mean_squared_error: 0.0553 - mean_absolute_error: 0.1727 - root_mean_squared_error: 0.2350 - val_loss: 0.0857 - val_mean_squared_error: 0.0872 - val_mean_absolute_error: 0.2313 - val_root_mean_squared_error: 0.2927\n",
      "Epoch 87/100\n",
      "141/141 [==============================] - 2s 15ms/step - loss: 0.0568 - mean_squared_error: 0.0566 - mean_absolute_error: 0.1739 - root_mean_squared_error: 0.2384 - val_loss: 0.0902 - val_mean_squared_error: 0.0907 - val_mean_absolute_error: 0.2333 - val_root_mean_squared_error: 0.3004\n",
      "Epoch 88/100\n",
      "141/141 [==============================] - 2s 15ms/step - loss: 0.0538 - mean_squared_error: 0.0537 - mean_absolute_error: 0.1694 - root_mean_squared_error: 0.2319 - val_loss: 0.0846 - val_mean_squared_error: 0.0845 - val_mean_absolute_error: 0.2255 - val_root_mean_squared_error: 0.2908\n",
      "Epoch 89/100\n",
      "141/141 [==============================] - 2s 15ms/step - loss: 0.0572 - mean_squared_error: 0.0571 - mean_absolute_error: 0.1755 - root_mean_squared_error: 0.2392 - val_loss: 0.0849 - val_mean_squared_error: 0.0844 - val_mean_absolute_error: 0.2230 - val_root_mean_squared_error: 0.2914\n",
      "Epoch 90/100\n",
      "141/141 [==============================] - 2s 15ms/step - loss: 0.0558 - mean_squared_error: 0.0556 - mean_absolute_error: 0.1729 - root_mean_squared_error: 0.2361 - val_loss: 0.0793 - val_mean_squared_error: 0.0794 - val_mean_absolute_error: 0.2204 - val_root_mean_squared_error: 0.2816\n",
      "Epoch 91/100\n",
      "141/141 [==============================] - 2s 15ms/step - loss: 0.0541 - mean_squared_error: 0.0541 - mean_absolute_error: 0.1704 - root_mean_squared_error: 0.2327 - val_loss: 0.0914 - val_mean_squared_error: 0.0913 - val_mean_absolute_error: 0.2321 - val_root_mean_squared_error: 0.3023\n",
      "Epoch 92/100\n",
      "141/141 [==============================] - 2s 15ms/step - loss: 0.0541 - mean_squared_error: 0.0541 - mean_absolute_error: 0.1697 - root_mean_squared_error: 0.2326 - val_loss: 0.0933 - val_mean_squared_error: 0.0938 - val_mean_absolute_error: 0.2382 - val_root_mean_squared_error: 0.3055\n",
      "Epoch 93/100\n",
      "141/141 [==============================] - 2s 15ms/step - loss: 0.0559 - mean_squared_error: 0.0558 - mean_absolute_error: 0.1726 - root_mean_squared_error: 0.2365 - val_loss: 0.0688 - val_mean_squared_error: 0.0689 - val_mean_absolute_error: 0.1977 - val_root_mean_squared_error: 0.2623\n",
      "Epoch 94/100\n",
      "141/141 [==============================] - 2s 15ms/step - loss: 0.0537 - mean_squared_error: 0.0536 - mean_absolute_error: 0.1690 - root_mean_squared_error: 0.2318 - val_loss: 0.0947 - val_mean_squared_error: 0.0953 - val_mean_absolute_error: 0.2412 - val_root_mean_squared_error: 0.3077\n",
      "Epoch 95/100\n",
      "141/141 [==============================] - 2s 15ms/step - loss: 0.0525 - mean_squared_error: 0.0525 - mean_absolute_error: 0.1670 - root_mean_squared_error: 0.2292 - val_loss: 0.0821 - val_mean_squared_error: 0.0820 - val_mean_absolute_error: 0.2229 - val_root_mean_squared_error: 0.2866\n",
      "Epoch 96/100\n",
      "141/141 [==============================] - 2s 15ms/step - loss: 0.0541 - mean_squared_error: 0.0540 - mean_absolute_error: 0.1697 - root_mean_squared_error: 0.2326 - val_loss: 0.0800 - val_mean_squared_error: 0.0800 - val_mean_absolute_error: 0.2162 - val_root_mean_squared_error: 0.2828\n",
      "Epoch 97/100\n",
      "141/141 [==============================] - 2s 15ms/step - loss: 0.0540 - mean_squared_error: 0.0540 - mean_absolute_error: 0.1694 - root_mean_squared_error: 0.2324 - val_loss: 0.0769 - val_mean_squared_error: 0.0764 - val_mean_absolute_error: 0.2133 - val_root_mean_squared_error: 0.2773\n",
      "Epoch 98/100\n",
      "141/141 [==============================] - 2s 15ms/step - loss: 0.0535 - mean_squared_error: 0.0534 - mean_absolute_error: 0.1691 - root_mean_squared_error: 0.2313 - val_loss: 0.0795 - val_mean_squared_error: 0.0797 - val_mean_absolute_error: 0.2166 - val_root_mean_squared_error: 0.2819\n",
      "Epoch 99/100\n",
      "141/141 [==============================] - 2s 15ms/step - loss: 0.0537 - mean_squared_error: 0.0536 - mean_absolute_error: 0.1696 - root_mean_squared_error: 0.2317 - val_loss: 0.0777 - val_mean_squared_error: 0.0775 - val_mean_absolute_error: 0.2165 - val_root_mean_squared_error: 0.2788\n",
      "Epoch 100/100\n",
      "141/141 [==============================] - 2s 15ms/step - loss: 0.0520 - mean_squared_error: 0.0519 - mean_absolute_error: 0.1668 - root_mean_squared_error: 0.2281 - val_loss: 0.0786 - val_mean_squared_error: 0.0784 - val_mean_absolute_error: 0.2120 - val_root_mean_squared_error: 0.2803\n"
     ]
    },
    {
     "data": {
      "text/plain": "<keras.src.callbacks.History at 0x24c8f52fd50>"
     },
     "execution_count": 39,
     "metadata": {},
     "output_type": "execute_result"
    }
   ],
   "source": [
    "model.fit(\n",
    "    Xtrain, yTrain,\n",
    "    epochs=100,\n",
    "    batch_size=32,\n",
    "    validation_data=(Xtest, yTest),\n",
    "    verbose=1,\n",
    ")"
   ],
   "metadata": {
    "collapsed": false,
    "ExecuteTime": {
     "end_time": "2024-01-22T12:57:02.102126300Z",
     "start_time": "2024-01-22T12:53:27.817956600Z"
    }
   },
   "id": "d235f0aca7f46278"
  }
 ],
 "metadata": {
  "kernelspec": {
   "display_name": "Python 3",
   "language": "python",
   "name": "python3"
  },
  "language_info": {
   "codemirror_mode": {
    "name": "ipython",
    "version": 2
   },
   "file_extension": ".py",
   "mimetype": "text/x-python",
   "name": "python",
   "nbconvert_exporter": "python",
   "pygments_lexer": "ipython2",
   "version": "2.7.6"
  }
 },
 "nbformat": 4,
 "nbformat_minor": 5
}
